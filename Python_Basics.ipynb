{
  "nbformat": 4,
  "nbformat_minor": 0,
  "metadata": {
    "colab": {
      "provenance": []
    },
    "kernelspec": {
      "name": "python3",
      "display_name": "Python 3"
    },
    "language_info": {
      "name": "python"
    }
  },
  "cells": [
    {
      "cell_type": "markdown",
      "source": [
        "#1. What is Python, and why is it popular?\n",
        "  - Python is a versatile programming language known for its simplicity and readability, making it accessible to beginners and powerful for experienced developers. It is popular because it is easy to read,having lot of liberies,well developed,and versality.\n"
      ],
      "metadata": {
        "id": "0BTAY_ArQzn5"
      }
    },
    {
      "cell_type": "markdown",
      "source": [
        "#1. Write a Python program to print \"Hello, World!\""
      ],
      "metadata": {
        "id": "1CWy6QwWT_Sb"
      }
    },
    {
      "cell_type": "code",
      "source": [
        "print(\"Hello, World!\")"
      ],
      "metadata": {
        "colab": {
          "base_uri": "https://localhost:8080/"
        },
        "id": "R86IBfw2S_62",
        "outputId": "f6002ea3-2f3d-446e-8617-7ade333f5ca6"
      },
      "execution_count": null,
      "outputs": [
        {
          "output_type": "stream",
          "name": "stdout",
          "text": [
            "Hello, World!\n"
          ]
        }
      ]
    },
    {
      "cell_type": "markdown",
      "source": [
        "#2.  What is an interpreter in Python?\n",
        " - An interpreter in Python is a program that executes Python code by directly translating high-level instructions into machine code. Instead of converting the entire code into machine language before execution as a compiler does, the interpreter translates and executes the code line-by-line at runtime."
      ],
      "metadata": {
        "id": "QxECENfAph3y"
      }
    },
    {
      "cell_type": "markdown",
      "source": [
        "#2.  Write a Python program that displays your name and age."
      ],
      "metadata": {
        "id": "HWNEu03apvgr"
      }
    },
    {
      "cell_type": "code",
      "source": [
        "name = \"Sudhanshu Yadav\"\n",
        "age = 21\n",
        "print(\"Name\", name)\n",
        "print(\"age\", age)"
      ],
      "metadata": {
        "colab": {
          "base_uri": "https://localhost:8080/"
        },
        "id": "yQHbxajgp107",
        "outputId": "c706c336-ca6c-4fcc-8c51-f7dc0bff3eb8"
      },
      "execution_count": 2,
      "outputs": [
        {
          "output_type": "stream",
          "name": "stdout",
          "text": [
            "Name Sudhanshu Yadav\n",
            "age 21\n"
          ]
        }
      ]
    },
    {
      "cell_type": "markdown",
      "source": [
        "#3. What are pre-defined keywords in Python?\n",
        "- Pre-defined keywords in Python are also known as (reserved words) have special meanings and are part of the language syntax."
      ],
      "metadata": {
        "id": "MqFbRkeAq-7r"
      }
    },
    {
      "cell_type": "markdown",
      "source": [
        "#3.  Write code to print all the pre-defined keywords in Python using the keyword library."
      ],
      "metadata": {
        "id": "QcXbmttxrkOC"
      }
    },
    {
      "cell_type": "code",
      "source": [
        "import keyword\n",
        "keywords = keyword.kwlist\n",
        "print(\"keywords:\")\n",
        "for kw in keywords:\n",
        "  print(kw)"
      ],
      "metadata": {
        "colab": {
          "base_uri": "https://localhost:8080/"
        },
        "id": "9S2pT3sbrxs1",
        "outputId": "f10fe95d-1e9e-43c5-9896-1b08bf78c2bb"
      },
      "execution_count": 4,
      "outputs": [
        {
          "output_type": "stream",
          "name": "stdout",
          "text": [
            "keywords:\n",
            "False\n",
            "None\n",
            "True\n",
            "and\n",
            "as\n",
            "assert\n",
            "async\n",
            "await\n",
            "break\n",
            "class\n",
            "continue\n",
            "def\n",
            "del\n",
            "elif\n",
            "else\n",
            "except\n",
            "finally\n",
            "for\n",
            "from\n",
            "global\n",
            "if\n",
            "import\n",
            "in\n",
            "is\n",
            "lambda\n",
            "nonlocal\n",
            "not\n",
            "or\n",
            "pass\n",
            "raise\n",
            "return\n",
            "try\n",
            "while\n",
            "with\n",
            "yield\n"
          ]
        }
      ]
    },
    {
      "cell_type": "markdown",
      "source": [
        "#4. Can keywords be used as variable names?\n",
        "- No, keywords cannot be used as variable names. Because keywords are reserved words that have special meaning in the language's syntax and are used to define the structure and behaviour of the code."
      ],
      "metadata": {
        "id": "JLeFp_VssLiu"
      }
    },
    {
      "cell_type": "markdown",
      "source": [
        "#4. Write a program that checks if a given word is a Python keyword.\n"
      ],
      "metadata": {
        "id": "ZTrzKlhatHjD"
      }
    },
    {
      "cell_type": "code",
      "source": [
        "import keyword\n",
        "def is_keyword(word):\n",
        "    return keyword.iskeyword(word)\n",
        "word_to_check = input(\"Enter a word to check: \")\n",
        "if is_keyword(word_to_check):\n",
        "    print(f'\"{word_to_check}\" is a Python keyword.')\n",
        "else:\n",
        "    print(f'\"{word_to_check}\" is not a Python keyword.')\n"
      ],
      "metadata": {
        "colab": {
          "base_uri": "https://localhost:8080/"
        },
        "id": "IKccp5H_tepB",
        "outputId": "ad18cf1e-5bab-4218-a03a-0cfa865843b7"
      },
      "execution_count": 6,
      "outputs": [
        {
          "output_type": "stream",
          "name": "stdout",
          "text": [
            "Enter a word to check: elif\n",
            "\"elif\" is a Python keyword.\n"
          ]
        }
      ]
    },
    {
      "cell_type": "markdown",
      "source": [
        "#5. What is mutability in Python?\n",
        "- In Python, mutability refers to the ability of an object to be changed after it is created."
      ],
      "metadata": {
        "id": "RlJP4VX7t_3A"
      }
    },
    {
      "cell_type": "markdown",
      "source": [
        "#5.  Create a list and tuple in Python, and demonstrate how attempting to change an element works differently for each.\n"
      ],
      "metadata": {
        "id": "nQdK1NwvuGEE"
      }
    },
    {
      "cell_type": "code",
      "source": [
        "my_list = [10, 20, 30, 40, 50]\n",
        "my_list[0] = 100\n",
        "print(\"Modified list:\", my_list)\n"
      ],
      "metadata": {
        "colab": {
          "base_uri": "https://localhost:8080/"
        },
        "id": "x9tcgDnNvVIL",
        "outputId": "28b8ea58-2f14-4386-8791-46cddd3c7d6c"
      },
      "execution_count": 7,
      "outputs": [
        {
          "output_type": "stream",
          "name": "stdout",
          "text": [
            "Modified list: [100, 20, 30, 40, 50]\n"
          ]
        }
      ]
    },
    {
      "cell_type": "code",
      "source": [
        "my_tuple = (10, 20, 30, 40, 50)\n",
        "try:\n",
        "    my_tuple[0] = 100\n",
        "except TypeError as e:\n",
        "    print(\"Error:\", e)\n",
        "print(\"Tuple:\", my_tuple)\n"
      ],
      "metadata": {
        "colab": {
          "base_uri": "https://localhost:8080/"
        },
        "id": "-Tdd3GOIvbk1",
        "outputId": "a91d87d1-0e88-40dd-f571-bbe0970db005"
      },
      "execution_count": 8,
      "outputs": [
        {
          "output_type": "stream",
          "name": "stdout",
          "text": [
            "Error: 'tuple' object does not support item assignment\n",
            "Tuple: (10, 20, 30, 40, 50)\n"
          ]
        }
      ]
    },
    {
      "cell_type": "markdown",
      "source": [
        "#6.  Why are lists mutable, but tuples are immutable?\n",
        "- lists are mutable to provide flexibility and dynamic handling of data, while tuples are immutable to ensure data integrity, hashability, and performance optimization. Each serves its specific purpose based on the requirements of the task at hand."
      ],
      "metadata": {
        "id": "nLNOXsFqvxr3"
      }
    },
    {
      "cell_type": "markdown",
      "source": [
        "#6.  Write a function to demonstrate the behavior of mutable and immutable arguments.\n"
      ],
      "metadata": {
        "id": "Phb3BYSkv3yz"
      }
    },
    {
      "cell_type": "code",
      "source": [
        "# Function to demonstrate behavior with mutable and immutable arguments\n",
        "def modify_values(a_list, an_int):\n",
        "    a_list.append(100)\n",
        "    an_int += 100\n",
        "    print(\"Inside function:\")\n",
        "    print(\"List:\", a_list)\n",
        "    print(\"Integer:\", an_int)\n",
        "\n",
        "# Define a mutable list and an immutable integer\n",
        "\n",
        "my_list = [1, 2, 3]\n",
        "my_int = 10\n",
        "modify_values(my_list, my_int)\n",
        "print(\"Outside function:\")\n",
        "print(\"List:\", my_list)\n",
        "print(\"Integer:\", my_int)\n"
      ],
      "metadata": {
        "colab": {
          "base_uri": "https://localhost:8080/"
        },
        "id": "dGuGkr3qv9EA",
        "outputId": "c27de381-78eb-414e-9d5d-77199e292c80"
      },
      "execution_count": 11,
      "outputs": [
        {
          "output_type": "stream",
          "name": "stdout",
          "text": [
            "Inside function:\n",
            "List: [1, 2, 3, 100]\n",
            "Integer: 110\n",
            "Outside function:\n",
            "List: [1, 2, 3, 100]\n",
            "Integer: 10\n"
          ]
        }
      ]
    },
    {
      "cell_type": "markdown",
      "source": [
        "#7.  What is the difference between “==” and “is” operators in Python?\n",
        "- Use \"==\" when you want to check if two objects have the same value.\n",
        "\n",
        "Use \"is\" when you want to check if two objects are actually the same object in memory.\n",
        "\n",
        "Understanding the difference between these operators is important for writing correct and efficient Python.\n"
      ],
      "metadata": {
        "id": "KGUaSOBHxA6E"
      }
    },
    {
      "cell_type": "markdown",
      "source": [
        "#7. Write a function to demonstrate the behavior of mutable and immutable arguments.\n"
      ],
      "metadata": {
        "id": "GFjDl-cPxIpQ"
      }
    },
    {
      "cell_type": "code",
      "source": [
        "# Function to demonstrate behavior with mutable and immutable arguments\n",
        "def modify_values(a_list, an_int):\n",
        "    a_list.append(100)\n",
        "    an_int += 100\n",
        "    print(\"Inside function:\")\n",
        "    print(\"List:\", a_list)\n",
        "    print(\"Integer:\", an_int)\n",
        "\n",
        "# Define a mutable list and an immutable integer\n",
        "my_list = [1, 2, 3]\n",
        "my_int = 10\n",
        "modify_values(my_list, my_int)\n",
        "print(\"Outside function:\")\n",
        "print(\"List:\", my_list)  # List will be modified\n",
        "print(\"Integer:\", my_int)  # Integer will remain unchanged\n"
      ],
      "metadata": {
        "colab": {
          "base_uri": "https://localhost:8080/"
        },
        "id": "4oQjhlG4xYtJ",
        "outputId": "6b1b5e0c-8580-4476-eb6a-fd9dafe8b6d8"
      },
      "execution_count": 12,
      "outputs": [
        {
          "output_type": "stream",
          "name": "stdout",
          "text": [
            "Inside function:\n",
            "List: [1, 2, 3, 100]\n",
            "Integer: 110\n",
            "Outside function:\n",
            "List: [1, 2, 3, 100]\n",
            "Integer: 10\n"
          ]
        }
      ]
    },
    {
      "cell_type": "markdown",
      "source": [
        "#8. What are logical operators in Python?\n",
        "- logical operators used to combined conditional statements and evalute expressions. They return True or False based on the logical relationship between the operands."
      ],
      "metadata": {
        "id": "xGZlr5G1yvFg"
      }
    },
    {
      "cell_type": "markdown",
      "source": [
        "#8.  Write a program to demonstrate the use of logical operators.\n"
      ],
      "metadata": {
        "id": "DWljLwUVy0ND"
      }
    },
    {
      "cell_type": "code",
      "source": [
        "a = True\n",
        "b = False\n",
        "result_and = a and b\n",
        "print(\"Result of a and b:\", result_and)"
      ],
      "metadata": {
        "colab": {
          "base_uri": "https://localhost:8080/"
        },
        "id": "_zbfDjjFy50b",
        "outputId": "f98c93e9-de1c-482f-921f-97c8529abf10"
      },
      "execution_count": 13,
      "outputs": [
        {
          "output_type": "stream",
          "name": "stdout",
          "text": [
            "Result of a and b: False\n"
          ]
        }
      ]
    },
    {
      "cell_type": "code",
      "source": [
        "result_or = a or b\n",
        "print(\"Result of a or b:\", result_or)"
      ],
      "metadata": {
        "colab": {
          "base_uri": "https://localhost:8080/"
        },
        "id": "DELIQGT2ztPS",
        "outputId": "b046fb60-6f52-4202-8e4d-e4617b204eba"
      },
      "execution_count": 17,
      "outputs": [
        {
          "output_type": "stream",
          "name": "stdout",
          "text": [
            "Result of a or b: True\n"
          ]
        }
      ]
    },
    {
      "cell_type": "markdown",
      "source": [
        "#9. What is type casting in Python?\n",
        "- Type casting is a process of changing the data type of a value/object. While executing/computation using operators, there can be mismatch between the data."
      ],
      "metadata": {
        "id": "vxKj1Ibg0FYI"
      }
    },
    {
      "cell_type": "markdown",
      "source": [
        "#9.  Write a Python program to convert user input from string to integer, float, and boolean types."
      ],
      "metadata": {
        "id": "riuh-gnd0qYt"
      }
    },
    {
      "cell_type": "code",
      "source": [
        "def convert_input(user_input):\n",
        "    try:\n",
        "        int_value = int(user_input)\n",
        "        print(\"Integer:\", int_value)\n",
        "    except ValueError:\n",
        "        print(\"Invalid integer input\")\n",
        "\n",
        "    try:\n",
        "        float_value = float(user_input)\n",
        "        print(\"Float:\", float_value)\n",
        "    except ValueError:\n",
        "        print(\"Invalid float input\")\n",
        "\n",
        "    bool_value = user_input.lower() not in [\"\", \"0\", \"false\", \"no\"]\n",
        "    print(\"Boolean:\", bool_value)\n",
        "user_input = input(\"Enter a value: \")\n",
        "convert_input(user_input)\n"
      ],
      "metadata": {
        "colab": {
          "base_uri": "https://localhost:8080/"
        },
        "id": "MqPwYlnd0vVB",
        "outputId": "3d0e6005-a03d-4af0-b342-681a51cd655a"
      },
      "execution_count": 18,
      "outputs": [
        {
          "output_type": "stream",
          "name": "stdout",
          "text": [
            "Enter a value: 76\n",
            "Integer: 76\n",
            "Float: 76.0\n",
            "Boolean: True\n"
          ]
        }
      ]
    },
    {
      "cell_type": "markdown",
      "source": [
        "#10. What is the difference between implicit and explicit type casting?\n",
        "- Implicit Type Casting: Done automatically by the Python interpreter without programmer intervention.\n",
        "\n",
        "Explicit Type Casting: Done manually by the programmer using built-in functions."
      ],
      "metadata": {
        "id": "HvWe5jWN0vxU"
      }
    },
    {
      "cell_type": "markdown",
      "source": [
        "#10. Write code to demonstrate type casting with list elements.\n"
      ],
      "metadata": {
        "id": "r5HbVgqr00UA"
      }
    },
    {
      "cell_type": "code",
      "source": [
        "original_list = [\"1\", \"2\", \"3\", 4, 5, 6]\n",
        "converted_to_int = [int(element) for element in original_list]\n",
        "print(\"List with all elements as integers:\", converted_to_int)\n",
        "\n",
        "converted_to_str = [str(element) for element in converted_to_int]\n",
        "print(\"List with all elements as strings:\", converted_to_str)\n",
        "\n",
        "converted_to_float = [float(element) for element in original_list]\n",
        "print(\"List with all elements as floats:\", converted_to_float)\n",
        "\n",
        "converted_to_bool = [bool(element) for element in original_list]\n",
        "print(\"List with all elements as booleans:\", converted_to_bool)\n"
      ],
      "metadata": {
        "colab": {
          "base_uri": "https://localhost:8080/"
        },
        "id": "8_jtsSqz05ot",
        "outputId": "f0bfec77-be66-4b66-8017-58a70f08d354"
      },
      "execution_count": 19,
      "outputs": [
        {
          "output_type": "stream",
          "name": "stdout",
          "text": [
            "List with all elements as integers: [1, 2, 3, 4, 5, 6]\n",
            "List with all elements as strings: ['1', '2', '3', '4', '5', '6']\n",
            "List with all elements as floats: [1.0, 2.0, 3.0, 4.0, 5.0, 6.0]\n",
            "List with all elements as booleans: [True, True, True, True, True, True]\n"
          ]
        }
      ]
    },
    {
      "cell_type": "markdown",
      "source": [
        "#11.  What is the purpose of conditional statements in Python?\n",
        "- Conditional statements are a fundamental aspect of programming, enabling you to create dynamic and responsive programs."
      ],
      "metadata": {
        "id": "7JpyWkBy3MwY"
      }
    },
    {
      "cell_type": "markdown",
      "source": [
        "#11.  Write a program that checks if a number is positive, negative, or zero."
      ],
      "metadata": {
        "id": "XgRpLdIs3PtT"
      }
    },
    {
      "cell_type": "code",
      "source": [
        "def check_number(number):\n",
        "    if number > 0:\n",
        "        print(\"The number is positive.\")\n",
        "    elif number < 0:\n",
        "        print(\"The number is negative.\")\n",
        "    else:\n",
        "        print(\"The number is zero.\")\n",
        "number = float(input(\"Enter a number: \"))\n",
        "check_number(number)"
      ],
      "metadata": {
        "colab": {
          "base_uri": "https://localhost:8080/"
        },
        "id": "MWtTKahk3Ujs",
        "outputId": "51fcd478-1cd6-4da6-9a57-bbea38b19021"
      },
      "execution_count": 20,
      "outputs": [
        {
          "output_type": "stream",
          "name": "stdout",
          "text": [
            "Enter a number: 54\n",
            "The number is positive.\n"
          ]
        }
      ]
    },
    {
      "cell_type": "markdown",
      "source": [
        "#12.  How does the elif statement work?\n",
        "- The elif statement in Python is used to check multiple conditions sequentially. It stands for \"else if\" and allows you to add additional conditions to an if statement."
      ],
      "metadata": {
        "id": "92OQJ3NK3aJO"
      }
    },
    {
      "cell_type": "markdown",
      "source": [
        "#12.  Write a for loop to print numbers from 1 to 10.\n"
      ],
      "metadata": {
        "id": "xyT9FBSL3dyK"
      }
    },
    {
      "cell_type": "code",
      "source": [
        "for number in range(1, 11):\n",
        "    print(number)\n"
      ],
      "metadata": {
        "colab": {
          "base_uri": "https://localhost:8080/"
        },
        "id": "itEqNcZN3jZS",
        "outputId": "d4d20bab-98ce-4add-ac26-d781df4b8476"
      },
      "execution_count": 21,
      "outputs": [
        {
          "output_type": "stream",
          "name": "stdout",
          "text": [
            "1\n",
            "2\n",
            "3\n",
            "4\n",
            "5\n",
            "6\n",
            "7\n",
            "8\n",
            "9\n",
            "10\n"
          ]
        }
      ]
    },
    {
      "cell_type": "markdown",
      "source": [
        "#13.  What is the difference between for and while loops?\n",
        "- In Python, both for and while loops are used to repeatedly execute a block of code, but they differ in how they operate and when they are used."
      ],
      "metadata": {
        "id": "5DVIMTK93kgz"
      }
    },
    {
      "cell_type": "markdown",
      "source": [
        "#13. Write a Python program to find the sum of all even numbers between 1 and 50.\n"
      ],
      "metadata": {
        "id": "KUlPYEWn3pcU"
      }
    },
    {
      "cell_type": "code",
      "source": [
        "sum_of_evens = 0\n",
        "for number in range(1, 51):\n",
        "    if number % 2 == 0:  # Check if the number is even\n",
        "        sum_of_evens += number  # Add the even number to the sum\n",
        "print(\"The sum of all even numbers between 1 and 50 is:\", sum_of_evens)"
      ],
      "metadata": {
        "colab": {
          "base_uri": "https://localhost:8080/"
        },
        "id": "M-m_Rrxi4Bw1",
        "outputId": "06bd2ecd-b061-463d-c772-ea0bc28b837a"
      },
      "execution_count": 22,
      "outputs": [
        {
          "output_type": "stream",
          "name": "stdout",
          "text": [
            "The sum of all even numbers between 1 and 50 is: 650\n"
          ]
        }
      ]
    },
    {
      "cell_type": "markdown",
      "source": [
        "#14.  Describe a scenario where a while loop is more suitable than a for loop.\n",
        "- Scenario:\n",
        "Imagine you are writing a program to simulate a guessing game where the user has to guess a randomly generated number between 1 and 100. The game should continue until the user guesses the correct number. In this case, a while loop is more suitable because the number of attempts is not predetermined and depends on the user's guesses."
      ],
      "metadata": {
        "id": "2UeH7bSN3uYz"
      }
    },
    {
      "cell_type": "markdown",
      "source": [
        "#14.  Write a program to reverse a string using a while loop.\n"
      ],
      "metadata": {
        "id": "8klAw4j43zfC"
      }
    },
    {
      "cell_type": "code",
      "source": [
        "def reverse_string(input_string):\n",
        "    reversed_string = \"\"\n",
        "    index = len(input_string) - 1\n",
        "\n",
        "    while index >= 0:\n",
        "        reversed_string += input_string[index]\n",
        "        index -= 1\n",
        "\n",
        "    return reversed_string\n",
        "\n",
        "input_string = input(\"Enter a string: \")\n",
        "reversed_result = reverse_string(input_string)\n",
        "print(\"Reversed string:\", reversed_result)"
      ],
      "metadata": {
        "colab": {
          "base_uri": "https://localhost:8080/"
        },
        "id": "iNSsLGab35H2",
        "outputId": "fe48d2e9-d567-48c8-a8d9-20589f93eaac"
      },
      "execution_count": 23,
      "outputs": [
        {
          "output_type": "stream",
          "name": "stdout",
          "text": [
            "Enter a string: sid\n",
            "Reversed string: dis\n"
          ]
        }
      ]
    },
    {
      "cell_type": "markdown",
      "source": [
        "#15.  Write a Python program to calculate the factorial of a number provided by the user using a while loop.\n"
      ],
      "metadata": {
        "id": "tCuAf7Ck35uE"
      }
    },
    {
      "cell_type": "code",
      "source": [
        "def factorial(n):\n",
        "    result = 1\n",
        "    while n > 0:\n",
        "        result *= n\n",
        "        n -= 1\n",
        "    return result\n",
        "number = int(input(\"Enter a number: \"))\n",
        "factorial_result = factorial(number)\n",
        "print(f\"The factorial of {number} is: {factorial_result}\")"
      ],
      "metadata": {
        "colab": {
          "base_uri": "https://localhost:8080/"
        },
        "id": "gx-VH1Ga399g",
        "outputId": "ac733302-c352-4e19-92ee-6448981c6ba4"
      },
      "execution_count": 24,
      "outputs": [
        {
          "output_type": "stream",
          "name": "stdout",
          "text": [
            "Enter a number: 25\n",
            "The factorial of 25 is: 15511210043330985984000000\n"
          ]
        }
      ]
    }
  ]
}